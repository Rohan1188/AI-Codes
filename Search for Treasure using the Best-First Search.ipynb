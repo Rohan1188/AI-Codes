{
 "cells": [
  {
   "cell_type": "code",
   "execution_count": 1,
   "id": "c29e4d57-30ad-4c83-a7e7-fc6bc2652ebd",
   "metadata": {},
   "outputs": [
    {
     "data": {
      "text/plain": [
       "'Assignment : Search for Treasure using the Best-First Search\\n \\nObjective: Use Best-First Search to find a treasure in a grid.\\n \\nProblem Statement: The treasure is hidden in a grid, and each cell has a heuristic value representing its \"closeness\" to the treasure. Implement Best-First Search to locate the treasure.\\n \\nTasks:\\nl. Use Manhattan distance as a heuristic.\\nlI. Implement the algorithm to always move to the most promising cell first (minimum heuristic value).\\nlII. Analyze how heuristic choice affects performance.'"
      ]
     },
     "execution_count": 1,
     "metadata": {},
     "output_type": "execute_result"
    }
   ],
   "source": [
    "\"\"\"Assignment : Search for Treasure using the Best-First Search\n",
    " \n",
    "Objective: Use Best-First Search to find a treasure in a grid.\n",
    " \n",
    "Problem Statement: The treasure is hidden in a grid, and each cell has a heuristic value representing its \"closeness\" to the treasure. Implement Best-First Search to locate the treasure.\n",
    " \n",
    "Tasks:\n",
    "l. Use Manhattan distance as a heuristic.\n",
    "lI. Implement the algorithm to always move to the most promising cell first (minimum heuristic value).\n",
    "lII. Analyze how heuristic choice affects performance.\"\"\""
   ]
  },
  {
   "cell_type": "code",
   "execution_count": 2,
   "id": "78090aaf-9744-4204-8f34-863593db23cb",
   "metadata": {},
   "outputs": [
    {
     "name": "stdout",
     "output_type": "stream",
     "text": [
      "Treasure location: (7, 8)\n",
      "Path to the treasure: [(0, 0), (0, 1), (0, 2), (0, 3), (0, 4), (0, 5), (0, 6), (0, 7), (0, 8), (1, 8), (2, 8), (3, 8), (4, 8), (5, 8), (6, 8), (7, 8)]\n",
      "Time taken to find the path: 0.0 seconds\n"
     ]
    },
    {
     "data": {
      "image/png": "[encoded data removed]",
      "text/plain": [
       "<Figure size 640x480 with 2 Axes>"
      ]
     },
     "metadata": {},
     "output_type": "display_data"
    }
   ],
   "source": [
    "import heapq\n",
    "import matplotlib.pyplot as plt\n",
    "import numpy as np\n",
    "import time\n",
    "\n",
    "# Grid size and treasure location\n",
    "GRID_SIZE = 10\n",
    "TREASURE = (7, 8)  # Treasure is located at (7, 8)\n",
    "\n",
    "# Manhattan distance heuristic\n",
    "def manhattan_distance(cell, goal):\n",
    "    return abs(cell[0] - goal[0]) + abs(cell[1] - goal[1])\n",
    "\n",
    "# Best-First Search Algorithm\n",
    "def best_first_search(start, goal):\n",
    "    open_list = []\n",
    "    heapq.heappush(open_list, (manhattan_distance(start, goal), start))\n",
    "    came_from = {}\n",
    "    \n",
    "    while open_list:\n",
    "        _, current = heapq.heappop(open_list)\n",
    "        if current == goal:\n",
    "            path = []\n",
    "            while current != start:\n",
    "                path.append(current)\n",
    "                current = came_from[current]\n",
    "            path.append(start)\n",
    "            path.reverse()\n",
    "            return path\n",
    "        \n",
    "        neighbors = [(current[0]-1, current[1]), (current[0]+1, current[1]),\n",
    "                    (current[0], current[1]-1), (current[0], current[1]+1)]\n",
    "        \n",
    "        for neighbor in neighbors:\n",
    "            if 0 <= neighbor[0] < GRID_SIZE and 0 <= neighbor[1] < GRID_SIZE:\n",
    "                if neighbor not in came_from:\n",
    "                    heapq.heappush(open_list, (manhattan_distance(neighbor, goal), neighbor))\n",
    "                    came_from[neighbor] = current\n",
    "    return []  # Return empty if no solution found\n",
    "\n",
    "# Visualize the grid and the path\n",
    "def visualize_grid(path):\n",
    "    grid_image = np.zeros((GRID_SIZE, GRID_SIZE))\n",
    "    \n",
    "    for i in range(GRID_SIZE):\n",
    "        for j in range(GRID_SIZE):\n",
    "            grid_image[i, j] = 1  # Mark all cells as open space\n",
    "    \n",
    "    for (x, y) in path:\n",
    "        grid_image[x, y] = 0.5  # Mark path cells\n",
    "    \n",
    "    grid_image[TREASURE[0], TREASURE[1]] = 2  # Mark the treasure\n",
    "    \n",
    "    plt.imshow(grid_image, cmap=\"YlGnBu\", interpolation=\"nearest\")\n",
    "    plt.colorbar()\n",
    "    plt.title(\"Best-First Search Path to Treasure\")\n",
    "    plt.show()\n",
    "\n",
    "# Function to analyze the performance of the heuristic\n",
    "def analyze_performance(start, goal):\n",
    "    start_time = time.time()\n",
    "    path = best_first_search(start, goal)\n",
    "    end_time = time.time()\n",
    "    \n",
    "    # Print path and time taken\n",
    "    print(\"Treasure location:\", goal)\n",
    "    print(\"Path to the treasure:\", path)\n",
    "    print(\"Time taken to find the path:\", end_time - start_time, \"seconds\")\n",
    "    \n",
    "    # Visualize the grid and path\n",
    "    visualize_grid(path)\n",
    "\n",
    "# Define the start position\n",
    "start = (0, 0)  # Start at the top-left corner\n",
    "\n",
    "# Perform Best-First Search to find the path to the treasure\n",
    "analyze_performance(start, TREASURE)\n"
   ]
  }
 ],
 "metadata": {
  "kernelspec": {
   "display_name": "Python [conda env:base] *",
   "language": "python",
   "name": "conda-base-py"
  },
  "language_info": {
   "codemirror_mode": {
    "name": "ipython",
    "version": 3
   },
   "file_extension": ".py",
   "mimetype": "text/x-python",
   "name": "python",
   "nbconvert_exporter": "python",
   "pygments_lexer": "ipython3",
   "version": "3.12.7"
  }
 },
 "nbformat": 4,
 "nbformat_minor": 5
}
